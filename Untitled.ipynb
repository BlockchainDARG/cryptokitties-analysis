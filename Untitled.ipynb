{
 "cells": [
  {
   "cell_type": "code",
   "execution_count": 1,
   "metadata": {},
   "outputs": [],
   "source": [
    "# Block range in the original article: 4605167 to 5374870\n",
    "# Filtering by block_timestamp is more cost efficient than by block_number because the tables are partitioned by block_timestamp\n",
    "# block_number = 4605167 -> block_timestamp == \"2017-11-23 05:41:19\" \n",
    "# block_number = 5374870 -> block_timestamp == \"2018-04-03 19:53:46\" \n",
    "\n",
    "FROM_BLOCK = 4605167\n",
    "TO_BLOCK = 5374870\n",
    "FROM_BLOCK_TIMESTAMP = \"'2018-01-01 05:41:19'\" # \"'2017-11-23 05:41:19'\"\n",
    "TO_BLOCK_TIMESTAMP = \"'2018-04-03 19:53:46'\"\n",
    "MY_TIMEOUT = 300\n",
    "\n",
    "# relevant Events signatures\n",
    "events_signatures = {\n",
    "    'AuctionCreated' : 'AuctionCreated(uint256,uint256,uint256,uint256)', # AuctionCreated(uint256 tokenId, uint256 startingPrice, uint256 endingPrice, uint256 duration);\n",
    "    'AuctionSuccessful' : 'AuctionSuccessful(uint256,uint256,address)', # AuctionSuccessful(uint256 tokenId, uint256 totalPrice, address winner);\n",
    "    'AuctionCancelled' : 'AuctionCancelled(uint256)', # AuctionCancelled(uint256 tokenId);\n",
    "    'Pause' : 'Pause()',\n",
    "    'Unpause' : 'Unpause()',\n",
    "    'Transfer' : 'Transfer(address,address,uint256)', # Transfer(address from, address to, uint256 tokenId);\n",
    "    'Approval' : 'Approval(address,address,uint256)', # Approval(address owner, address approved, uint256 tokenId);\n",
    "    'ContractUpgrade' : 'ContractUpgrade(address)',\n",
    "    'Birth' : 'Birth(address,uint256,uint256,uint256,uint256)', # Birth(address owner, uint256 kittyId, uint256 matronId, uint256 sireId, uint256 genes);\n",
    "    'Pregnant' : 'Pregnant(address,uint256,uint256,uint256)' # Pregnant(address owner, uint256 matronId, uint256 sireId, uint256 cooldownEndBlock);\n",
    "}\n",
    "events_hashes = {'0a5311bd2a6608f08a180df2ee7c5946819a649b204b554bb8e39825b2c50ad5': 'Birth',\n",
    " '241ea03ca20251805084d27d4440371c34a0b85ff108f6bb5611248f73818b80': 'Pregnant',\n",
    " '2809c7e17bf978fbc7194c0a694b638c4215e9140cacc6c38ca36010b45697df': 'AuctionCancelled',\n",
    " '450db8da6efbe9c22f2347f7c2021231df1fc58d3ae9a2fa75d39fa446199305': 'ContractUpgrade',\n",
    " '4fcc30d90a842164dd58501ab874a101a3749c3d4747139cefe7c876f4ccebd2': 'AuctionSuccessful',\n",
    " '6985a02210a168e66602d3235cb6db0e70f92b3ba4d376a33c0f3d9434bff625': 'Pause',\n",
    " '7805862f689e2f13df9f062ff482ad3ad112aca9e0847911ed832e158c525b33': 'Unpause',\n",
    " '8c5be1e5ebec7d5bd14f71427d1e84f3dd0314c0f7b2291e5b200ac8c7c3b925': 'Approval',\n",
    " 'a9c8dfcda5664a5a124c713e386da27de87432d5b668e79458501eb296389ba7': 'AuctionCreated',\n",
    " 'ddf252ad1be2c89b69c2b068fc378daa952ba7f163c4a11628f55a4df523b3ef': 'Transfer'}\n",
    "coreContract = '0x06012c8cf97bead5deae237070f9587f8e7a266d'\n",
    "contracts = {\n",
    "    coreContract : 'core',\n",
    "    '0xc7af99fe5513eb6710e6d5f44f9989da40f27f26' : 'siringAuction',\n",
    "    '0xb1690c08e213a35ed9bab7b318de14420fb57d8c' : 'saleAuction',\n",
    "}\n"
   ]
  },
  {
   "cell_type": "code",
   "execution_count": 6,
   "metadata": {},
   "outputs": [],
   "source": [
    "from google.cloud import bigquery\n",
    "import pandas as pd\n",
    "import matplotlib.pyplot as plt\n",
    "%matplotlib inline\n",
    "pd.set_option('max_colwidth', 70)"
   ]
  },
  {
   "cell_type": "code",
   "execution_count": null,
   "metadata": {},
   "outputs": [
    {
     "name": "stdout",
     "output_type": "stream",
     "text": [
      "\n",
      "SELECT \n",
      "  transaction_hash AS transactionHash,\n",
      "  address,\n",
      "  data,\n",
      "  topics,\n",
      "  block_timestamp,\n",
      "  block_number AS blockNumber_dec\n",
      "FROM\n",
      "  `bigquery-public-data.ethereum_blockchain.logs` AS events\n",
      "WHERE TRUE\n",
      "  AND block_timestamp >= '2018-01-01 05:41:19' \n",
      "  AND block_timestamp <= '2018-04-03 19:53:46'\n",
      "  AND address IN ('0x06012c8cf97bead5deae237070f9587f8e7a266d','0xc7af99fe5513eb6710e6d5f44f9989da40f27f26','0xb1690c08e213a35ed9bab7b318de14420fb57d8c')\n",
      "\n"
     ]
    }
   ],
   "source": [
    "from google.oauth2 import service_account\n",
    "credentials = service_account.Credentials.from_service_account_file(\n",
    "    './bitcoincurso-77637377e186.json', scopes=[\"https://www.googleapis.com/auth/cloud-platform\"],\n",
    ")\n",
    "\n",
    "client = bigquery.Client(credentials=credentials, project=credentials.project_id,)\n",
    "query = \"\"\"\n",
    "SELECT \n",
    "  transaction_hash AS transactionHash,\n",
    "  address,\n",
    "  data,\n",
    "  topics,\n",
    "  block_timestamp,\n",
    "  block_number AS blockNumber_dec\n",
    "FROM\n",
    "  `bigquery-public-data.ethereum_blockchain.logs` AS events\n",
    "WHERE TRUE\n",
    "  AND block_timestamp >= {from_block_ts} \n",
    "  AND block_timestamp <= {to_block_ts}\n",
    "  AND address IN ({contract_list})\n",
    "\"\"\".format(from_block_ts=FROM_BLOCK_TIMESTAMP, to_block_ts=TO_BLOCK_TIMESTAMP, contract_list=\"'0x06012c8cf97bead5deae237070f9587f8e7a266d','0xc7af99fe5513eb6710e6d5f44f9989da40f27f26','0xb1690c08e213a35ed9bab7b318de14420fb57d8c'\")\n",
    "print(query)\n",
    "query_job = client.query(query)\n",
    "iterator = query_job.result(timeout=MY_TIMEOUT)\n",
    "rows = list(iterator)\n",
    "events = pd.DataFrame(data=[list(x.values()) for x in rows], columns=list(rows[0].keys()))\n",
    "events['contract'] = events['address'].apply(lambda x: contracts[x])\n",
    "events['event'] = events['topics'].apply(lambda x: events_hashes[x[0][2:]])\n",
    "events.head(10)"
   ]
  }
 ],
 "metadata": {
  "kernelspec": {
   "display_name": "clustering",
   "language": "python",
   "name": "clustering"
  },
  "language_info": {
   "codemirror_mode": {
    "name": "ipython",
    "version": 3
   },
   "file_extension": ".py",
   "mimetype": "text/x-python",
   "name": "python",
   "nbconvert_exporter": "python",
   "pygments_lexer": "ipython3",
   "version": "3.9.5"
  }
 },
 "nbformat": 4,
 "nbformat_minor": 2
}
